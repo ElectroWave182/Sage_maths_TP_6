{
 "cells": [
{
    "cell_type": "markdown",
    "metadata": {},
    "source": [
   "$\\renewcommand{\\r}{\\mathbb{ R}}$ $\\newcommand{\\N}{\\mathbb{N}}$ $\\newcommand{\\R}{\\mathbb{ R}}$ $\\newcommand{\\Q}{\\mathbb{ Q}}$ $\\newcommand{\\R}{\\mathbb{ R}}$ $\\newcommand{\\C}{\\mathbb{C}}$ $\\newcommand{\\Z}{\\mathbb{Z}}$ $\\newcommand{\\ens}[1]{\\left\\{ {#1} \\right\\}}$ $\\newcommand{\\pv}{\\;;\\;}$ $\\newcommand{\\sev}{sous-espace vectoriel}$ $\\newcommand{\\evc}{espace vectoriel canonique}$ $\\newcommand{\\vect}{\\text{vect}}$$\\newcommand{\\calf}{\\mathscr{F}}$ $\\newcommand{\\calc}{\\mathscr{C}}$\n\n"
    ]
},
{
    "cell_type": "markdown",
    "metadata": {},
    "source": [
   "# Rappels utiles\n\n",
   "Ayez sous la main pour consultation le cours d'algèbre liénaire du chapitre 3 et du chapitre 4.\n\n",
   "La plupart des questions d'algèbre linéaire, qu'elles utilisent ou pas des applications linéaires, se résolvent en utilisant des matrices.\n\n",
   "Il y a quatre outils fondamentaux pour résoudre des questions d'algèbre linéaire avec SageMath :\n\n",
   "- la recherche de base d'un **noyau** de matrice `M` avec des expressions du type `M.right_kernel().basis()` où `M` est une marice de Sage ; on notera les paires de parenthèses. L'expression renvoie une liste de vecteurs qui forment une base du noyau de la matrice c-a-d l'ensemble des vecteurs `v` tels que `Mv=0`. Si le noyau est réduit à 0, la liste renvoyée est vide. En algèbre linéaire, on ne cesse de résoudre des systèmes linéaires et cette opération peut se ramener à la recherche d'un noyau.\n\n",
   "- le calcul du rang d'une matrice avec des expressions du type `M.rank()` qui renvoie le rang de la matrice. Cela rpermet de trouver des dimension de sev\n\n",
   "- la transposition qui permet de ramener des opérations sur des lignes à des opérations sur des colonnes ; la transposée de la matrice `M` est obtenue par `M.transpose()`\n\n",
   "- Bien sûr, le produit matriciel.\n\n",
   "Si $M$ est une matrice de taille $n\\times p$ représentant une application linéaire $f$ de $\\R^p$ dans $\\R^n$ et si $v\\in \\R^p$ est un vecteur alors l'image $f(v)$ s'obtient avec sageMath en écrivant `M * v`, qui est un vecteur de sage.\n\n",
   "Si $\\mathcal{F}=(v_1, \\dots, v_p)$ est une famille de vecteurs de $E$ alors le rang de cette famille est $\\dim F$ où $F=\\vect(v_1, \\dots, v_p)$. Pour l'obtenir avec SageMath, il suffit de construire la matrice $M$ dont les lignes (ça marcherait aussi pour les colonnes) sont les vecteurs $(v_1, \\dots, v_p)$, en pratique connus par leurs coordonnées dans la base canonique. Le rang est alors donné par `M.rank()`. Par ailleurs, la famille $\\mathcal{F}$ est une base de $F$ ssi ce rang est le nombre $p$ de vecteurs.\n\n",
   "Il est bon de savoir qu'une matrice et sa transposée ont même rang.\n\n",
   "Si on connait deux sev $F$ et $G$ par des familles génératrices, alors de sev $F+G$ est engendré par la famille concaténée des familles génératrices. En Python, deux listes `L` et `M` étant données, leur concaténation `L + M`.\n\n",
   "Par défaut, les listes que l'on donne à `matrix` forment les **lignes** de la matrice construite. Si on veut travailler sur des colonnes, on peut être améné à transposer.\n\n"
    ]
},
{
    "cell_type": "markdown",
    "metadata": {},
    "source": [
   "## EXERCICES\n\n"
    ]
},
{
    "cell_type": "markdown",
    "metadata": {},
    "source": [
   "### Exercice n° 1 : Vérifier qu'une famille est libre\n\n"
    ]
},
{
    "cell_type": "markdown",
    "metadata": {},
    "source": [
   "On donne une famille `fl` et on demande de vérifier qu'elle est libre. On écrira une fonction `est_libre`. On remarquera qu'une famille est libre si et seulement si son rang est égal à la longueur de la famille.\n\n",
   "Tester avec les vecteurs suivants :\n\n"
    ]
},
  {
   "cell_type": "code",
   "execution_count": null,
   "metadata": {
    "collapsed": false
   },
   "outputs": [],
   "source": [
   "fl=[vector (z) for z in [(2, 1, 2, -4, -4, -4, 1, 5, -5, 5), (-1, 1, 2, 1, 2, 0, -4, 3, 3, 5),\n",
   "(-1, -2, -4, 3, 1, 3, 6, -6, 2, -9), (-2, -6, -11, 7, 3, 9, 13, -21, 2,\n",
   "-26), (-7, 7, 8, 10, 16, 9, -28, 12, 30, 6), (-9, -6, -14, 21, 21, 28,\n",
   "-6, -38, 26, -50)]]"
   ]
  },
  {
   "cell_type": "code",
   "execution_count": null,
   "metadata": {
    "collapsed": false
   },
   "outputs": [],
   "source": [
"# Votre code CI-DESSOUS\n" 
   ]
  },
{
    "cell_type": "markdown",
    "metadata": {},
    "source": [
   "### Exercice n° 2 : Dimension d'un sev engendré\n\n"
    ]
},
{
    "cell_type": "markdown",
    "metadata": {},
    "source": [
   "On vous donne $p$ vecteurs de $\\R^n$ sous la forme d'une liste L. Ecrire une fonction `dim_sev(L)` qui renvoie la dimension du sev engendré par les vecteurs de la liste `L`. Tester avec L ci-dessous.\n\n"
    ]
},
  {
   "cell_type": "code",
   "execution_count": null,
   "metadata": {
    "collapsed": false
   },
   "outputs": [],
   "source": [
   "L=[vector([-1, 1, 7, 1]), vector([-1, 1, 1, 1]), vector([-1, 1, -1, 1])]"
   ]
  },
  {
   "cell_type": "code",
   "execution_count": null,
   "metadata": {
    "collapsed": false
   },
   "outputs": [],
   "source": [
"# Votre code CI-DESSOUS\n" 
   ]
  },
{
    "cell_type": "markdown",
    "metadata": {},
    "source": [
   "### Exercice n° 3 : Équations cartésiennes vers base\n\n"
    ]
},
{
    "cell_type": "markdown",
    "metadata": {},
    "source": [
   "On donne un sev $F$ d'un espace vectoriel de dimension $n$ par $p$ équations cartésiennes, par exemple\n\n",
   "$$2x+2y+z-t=z+3t=x+y-2z-8t=0$$\n\n",
   "avec ici $n=4$ et $p=3$. On suppose que les équations cartésiennes sont données uniquement par leurs coefficients,  sous la forme d'une matrice `ec` de taille $p\\times n$, chaque ligne donnant les coefficients d'une équation ; pour l'exemple précédent, on a :\n\n"
    ]
},
  {
   "cell_type": "code",
   "execution_count": null,
   "metadata": {
    "collapsed": false
   },
   "outputs": [],
   "source": [
   "ec=[[2, 2, 1, -1],[0, 0, 1, 3],[1, 1, -2, -8]]"
   ]
  },
{
    "cell_type": "markdown",
    "metadata": {},
    "source": [
   "On demande de déterminer une base de $F$. Pour cela, on observera que les équations cartésiennes de $F$ définissent naturellement $F$ comme un noyau. On pourra écrire une fonction `ec_vers_base(ec)`.\n\n"
    ]
},
  {
   "cell_type": "code",
   "execution_count": null,
   "metadata": {
    "collapsed": false
   },
   "outputs": [],
   "source": [
"# Votre code CI-DESSOUS\n" 
   ]
  },
{
    "cell_type": "markdown",
    "metadata": {},
    "source": [
   "### Exercice n° 4 : Base de l'intersection à partir d'équations cartésiennes\n\n"
    ]
},
{
    "cell_type": "markdown",
    "metadata": {},
    "source": [
   "On donne sous forme d'équations cartésiennes deux sev $F$ et $G$ de $\\mathbb{R}^n$. Les équations cartésiennes sont données comme une liste de listes `ec_F`, `ec_G` de $n$ nombres représentant les coefficients. On demande de déterminer une base de $F\\cap G$. On écrire une fonction `ec_inter(ec_F, ec_G)`.\n\n",
   "Tester avec :\n\n"
    ]
},
  {
   "cell_type": "code",
   "execution_count": null,
   "metadata": {
    "collapsed": false
   },
   "outputs": [],
   "source": [
   "ec_F=[[1,-2,1,0],[1,0,-3,2]]\n",
   "ec_G=[[1,-1,0,0],[0,1,-1,0]]"
   ]
  },
  {
   "cell_type": "code",
   "execution_count": null,
   "metadata": {
    "collapsed": false
   },
   "outputs": [],
   "source": [
"# Votre code CI-DESSOUS\n" 
   ]
  },
{
    "cell_type": "markdown",
    "metadata": {},
    "source": [
   "### Exercice n° 5 : Famille liée, recherche de combinaisons linéaires\n\n"
    ]
},
{
    "cell_type": "markdown",
    "metadata": {},
    "source": [
   "Cet exercice se ramène à une recherche de noyau.\n\n"
    ]
},
{
    "cell_type": "markdown",
    "metadata": {},
    "source": [
   "1)a) Montrer que la famille, dont les vecteurs sont les suivants, est liée :\n\n",
   "$$(-1, 14, 29, 2, 2), (0, -10, -2, -2, -4), (0, 15, 3, 3, 6), (-2, 3, 53,-1, -6)$$\n\n"
    ]
},
  {
   "cell_type": "code",
   "execution_count": null,
   "metadata": {
    "collapsed": false
   },
   "outputs": [],
   "source": [
"# Votre code CI-DESSOUS\n" 
   ]
  },
{
    "cell_type": "markdown",
    "metadata": {},
    "source": [
   "b) Déterminer une combinaison linéaire non triviale entre ces vecteurs.\n\n"
    ]
},
  {
   "cell_type": "code",
   "execution_count": null,
   "metadata": {
    "collapsed": false
   },
   "outputs": [],
   "source": [
"# Votre code CI-DESSOUS\n" 
   ]
  },
{
    "cell_type": "markdown",
    "metadata": {},
    "source": [
   "2) Plus généralement, écrire une fonction `liaison(V)` qui prend en paramètre une liste de vecteurs `V` (ou de $n$-uplets) de $\\R^n$ et renvoie\n\n",
   "- une combinaison linéaire non triviale entre les vecteurs si la famille est liée\n\n",
   "- ou, sinon, la combinaison linéaire triviale ie une liste de $n$ zéros.\n\n",
   "Une combinaison linéaire sera exprimée comme une liste de coefficients.\n\n"
    ]
},
  {
   "cell_type": "code",
   "execution_count": null,
   "metadata": {
    "collapsed": false
   },
   "outputs": [],
   "source": [
"# Votre code CI-DESSOUS\n" 
   ]
  },
{
    "cell_type": "markdown",
    "metadata": {},
    "source": [
   "### Exercice n° 6 : Coordonnées d'un vecteur dans une base\n\n"
    ]
},
{
    "cell_type": "markdown",
    "metadata": {},
    "source": [
   "On donne une liste `B` de $n$ vecteurs d'une base de $\\R^n$ ainsi qu'un vecteur v de $\\R^n$. On demande d'écrire une fonction `coord(B,v)` qui renvoie la liste des coordonnées de `v` dans `B`.\n\n",
   "On appliquera l'idée suivante : On augmentera la liste `B` du vecteur `v` et on recherchera une combinaison linéaire non triviale entre les $n+1$ vecteurs et on en déduira $v$ en fonction des autres vecteurs.\n\n",
   "Tester avec les vecteurs suivants :\n\n"
    ]
},
  {
   "cell_type": "code",
   "execution_count": null,
   "metadata": {
    "collapsed": false
   },
   "outputs": [],
   "source": [
   "v1=vector((-1,2,1))\n",
   "v2=vector((-4,1,2))\n",
   "v3=vector((2,0,-3))\n",
   "v=vector((2,6,3))"
   ]
  },
  {
   "cell_type": "code",
   "execution_count": null,
   "metadata": {
    "collapsed": false
   },
   "outputs": [],
   "source": [
"# Votre code CI-DESSOUS\n" 
   ]
  },
{
    "cell_type": "markdown",
    "metadata": {},
    "source": [
   "### Exercice n° 7 : Famille génératrice vers équations cartésiennes\n\n"
    ]
},
{
    "cell_type": "markdown",
    "metadata": {},
    "source": [
   "Écrire une fonction `fg_vers_eqns(gnrtors)` qui prend en paramètre une liste `gntors` de vecteurs générateurs d'un sous-espace vectoriel $F$ de $\\R^n$ et qui renvoie :\n\n",
   "- un système d'équations cartésiennes si $F$ est distinct de $\\R^n$\n\n",
   "- la liste de $n$ coefficients 0 sinon.\n\n",
   "Chaque équation cartésienne sera fournie par un vecteur de SageMath dont les coefficients seront exactement les coefficients de l'équation cartésienne. On utilisera que les générateurs satisfont les équations cartésiennes et on remarquera alors que les coefficients de chaque équation cartésienne sont dans un certain noyau.\n\n",
   "Appliquer au sous-espace vectoriel $F$ de $E=\\R^4$ engendré par les 5 vecteurs suivants\n\n",
   "$$(1, 1, 3, 1), (0, 1, 2, -1), (2, 0, 2, 4), (-1, -1, -3, -1) ,(-1, 0,-1, -2)$$\n\n",
   "Ecrire une fonction de vérification `verif(fg, eqns)` qui s'assure que chaque vecteur générateur vérifie chaque équation cartésienne trouvée.\n\n"
    ]
},
  {
   "cell_type": "code",
   "execution_count": null,
   "metadata": {
    "collapsed": false
   },
   "outputs": [],
   "source": [
"# Votre code CI-DESSOUS\n" 
   ]
  },
{
    "cell_type": "markdown",
    "metadata": {},
    "source": [
   "### Exercice n° 8 : Base de l'intersection de deux sev donnés par des familles génératrices\n\n"
    ]
},
{
    "cell_type": "markdown",
    "metadata": {},
    "source": [
   "1) Soit $E$ le $\\mathbb{R}$-espace vectoriel canonique $\\mathbb{R}^4$ et soient les vecteurs suivants de $E$ :\n\n",
   "$v_1=(1,2,0,1),\\quad v_2=(0,1,-1,0),\\quad v_3=(1,0,1,0),\\quad v_4=(2,1,3,2).$\n\n",
   "Soient $F=\\text{vect}(v_1,v_2)$ et $G=\\text{vect}(v_3,v_4).$\n\n",
   "Déterminer une base du sous-espace vectoriel $F\\cap G$. Pour cela on observera qu'écrire qu'un vecteur est commun aux deux sev :\n\n",
   "$$av_1+bv_2=cv_3+dv_4$$\n\n",
   "équivaut à $av_1+bv_2-cv_3-dv_4=0$ ce qui revient à trouver toutes les combinaisons linéaires nulles des 4 vecteurs et donc à déterminer le noyau de la matrice de la famille des vecteurs colonnes de la famille $(v_1,v_2, v_3, v_4)$. Des vecteurs de la base du noyau que l'on obtiendra, on déterminera $a$ et $b$ et on calculera $av_1+bv_2$.\n\n",
   "On utulisera que\n\n"
    ]
},
  {
   "cell_type": "code",
   "execution_count": null,
   "metadata": {
    "collapsed": false
   },
   "outputs": [],
   "source": [
   "F=[vector([1, 2, 0, 1]),vector([0, 1, -1, 0])]\n",
   "G=[vector([1, 0, 1, 0]),vector([2, 1, 3, 2])]"
   ]
  },
  {
   "cell_type": "code",
   "execution_count": null,
   "metadata": {
    "collapsed": false
   },
   "outputs": [],
   "source": [
"# Votre code CI-DESSOUS\n" 
   ]
  },
{
    "cell_type": "markdown",
    "metadata": {},
    "source": [
   "2) Plus généralement écrire une fonction `inter_gene(F, G)` qui à partir de deux sev définies par des listes F et G de vecteurs générateurs renvoie une base de l'intersection  des deux sev.\n\n"
    ]
},
  {
   "cell_type": "code",
   "execution_count": null,
   "metadata": {
    "collapsed": false
   },
   "outputs": [],
   "source": [
"# Votre code CI-DESSOUS\n" 
   ]
  },
{
    "cell_type": "markdown",
    "metadata": {},
    "source": [
   "### Exercice n° 9 : Appartenance à un sev de $\\R^5$\n\n"
    ]
},
{
    "cell_type": "markdown",
    "metadata": {},
    "source": [
   "Soit F le sous-espace vectoriel de $\\R^5$ engendré par la famille $\\mathcal F$ des vecteurs suivants :\n\n",
   "$$(0, 0, 1, -2, -2)(1, 0, 1, -2, -1)(1, -1, 0, -1, 0)(0, 1, 0, 1, 1)$$\n\n",
   "Soit $v= (1, -1, 1, 2, -1)$. Déterminer si $v\\in F$. Pour cela, remarquer que $v\\in F$ si et seulement si la famille $\\mathcal F$ augmentée de $v$ a un rang identique à celui de $\\mathcal F$.\n\n",
   "Il pourra être utile d'utiliser que si on dispose de deux listes $L$ et $M$ alors $L+M$ est la liste concaténée des deux listes $L$ et $M$.\n\n"
    ]
},
  {
   "cell_type": "code",
   "execution_count": null,
   "metadata": {
    "collapsed": false
   },
   "outputs": [],
   "source": [
"# Votre code CI-DESSOUS\n" 
   ]
  },
{
    "cell_type": "markdown",
    "metadata": {},
    "source": [
   "### Exercice n° 10 : Inclusion, égalité de sous-espaces\n\n"
    ]
},
{
    "cell_type": "markdown",
    "metadata": {},
    "source": [
   "1) Ecrire une fonction `est_sev(F, G)` qui teste si un sev $F$ est, oui ou non, un sev du sev $G$. Les sev $F$ et $G$ seront donnés par  des familles génératrices de vecteurs.\n\n",
   "Le code est basé sur le fait que $F\\subseteq G$ équivaut à $\\dim(F+G)=\\dim G$.\n\n",
   "On testera avec les sev suivants :\n\n"
    ]
},
  {
   "cell_type": "code",
   "execution_count": null,
   "metadata": {
    "collapsed": false
   },
   "outputs": [],
   "source": [
   "# premier test\n",
   "F=[vector([0, 0, 1, -2, -2]),\n",
   "vector([1, 0, 1, -2, -1]),\n",
   "vector([1, -1, 0, -1, 0]),\n",
   "vector([0, 1, 0, 1, 1])]\n",
   "G=[vector([-1, 0, 0, 0, -1]),\n",
   "vector([0, 1, 1, -1, -1]),\n",
   "vector([1, -1, 1, 2, -1]),\n",
   "vector([0, 1, 1, -1, -1]),\n",
   "vector([0, 1, 0, 1, 1])]\n",
   "\n",
   "\n",
   "\n",
   "# deuxième test\n",
   "F=  [vector([1, -4, -27, 0, 2]),\n",
   "vector([1, 6, -25, 2, 6]),\n",
   "vector([-1, 9, 28, 1, 0])]\n",
   "G=[vector([-1, 14, 29, 2, 2]),\n",
   "vector([0, -10, -2, -2, -4]),\n",
   "vector([0, 15, 3, 3, 6]),\n",
   "vector([-2, 3, 53, -1, -6])]"
   ]
  },
  {
   "cell_type": "code",
   "execution_count": null,
   "metadata": {
    "collapsed": false
   },
   "outputs": [],
   "source": [
"# Votre code CI-DESSOUS\n" 
   ]
  },
{
    "cell_type": "markdown",
    "metadata": {},
    "source": [
   "2) Ecrire une fonction `sontEgaux(F, G)` qui renvoie `True` ou `False` selon que les sev `F` et `G` sont égaux ou pas ; les sev `F` et `G` seront donnés par des familles génératrices. Tester comme ci-dessus.\n\n"
    ]
},
  {
   "cell_type": "code",
   "execution_count": null,
   "metadata": {
    "collapsed": false
   },
   "outputs": [],
   "source": [
"# Votre code CI-DESSOUS\n" 
   ]
  },
{
    "cell_type": "markdown",
    "metadata": {},
    "source": [
   "### Exercice n° 11 : Compléter une famille libre\n\n"
    ]
},
{
    "cell_type": "markdown",
    "metadata": {},
    "source": [
   "On donne une famille libre `fl` de $\\R^n$. Compléter `fl` en une base de $\\R^n$. On appliquera la méthode qui consiste à rajouter un à un à la famille `fl` des vecteurs de la base canonique jusqu'à ce que la famille complétée contienne $n$ vecteurs.\n\n",
   "Pour obtenir les vecteurs de la base canonique de $\\R^n$, on utilisera le code ci-dessous :\n\n"
    ]
},
  {
   "cell_type": "code",
   "execution_count": null,
   "metadata": {
    "collapsed": false
   },
   "outputs": [],
   "source": [
   "base_can=list(matrix(m,m,1))"
   ]
  },
{
    "cell_type": "markdown",
    "metadata": {},
    "source": [
   "Tester avec la famille ci-dessous :\n\n"
    ]
},
  {
   "cell_type": "code",
   "execution_count": null,
   "metadata": {
    "collapsed": false
   },
   "outputs": [],
   "source": [
   "fl=[vector([-3, 2, -1, -4, -4]), vector([3, -1, 6, 2, 2]), vector([4, -2, 5, 4, 4])]"
   ]
  },
  {
   "cell_type": "code",
   "execution_count": null,
   "metadata": {
    "collapsed": false
   },
   "outputs": [],
   "source": [
"# Votre code CI-DESSOUS\n" 
   ]
  },
{
    "cell_type": "markdown",
    "metadata": {},
    "source": [
   "### Exercice n° 12 : Extraction d'une base\n\n"
    ]
},
{
    "cell_type": "markdown",
    "metadata": {},
    "source": [
   "Soit $F$ le sous-espace vectoriel de $R^5$ engendré par les vecteurs suivants :\n\n",
   "$$(-1, -1, 0, 0, 3), (3, 3, 0, 0, -9), (2, 1, 2, -5, 1), (4, 1, 6, -15,9), (-2, 0, -2, 4, -4), (0, 1, -1, 2, -5), (1, 0, 1, -2, 2)$$\n\n",
   "Extraire des vecteurs précédents une base de $F$.\n\n",
   "Le principe est le suivant : on crée une liste vide `L`, on parcourt la famille des vecteurs et rajoute à `L` le vecteur courant s'il augmente le rang du sev engendré par les vecteurs déjà dans `L`.\n\n"
    ]
},
  {
   "cell_type": "code",
   "execution_count": null,
   "metadata": {
    "collapsed": false
   },
   "outputs": [],
   "source": [
"# Votre code CI-DESSOUS\n" 
   ]
  },
{
    "cell_type": "markdown",
    "metadata": {},
    "source": [
   "### Exercice n° 13 : La base incomplète dans un sous-espace\n\n"
    ]
},
{
    "cell_type": "markdown",
    "metadata": {},
    "source": [
   "On dispose\n\n",
   "- d'une d'un sev $F$ de $\\mathbb{R}^n$, donnée par une base `b` de\n\n",
   "- d'une famille libre `fl` de vecteurs de $F$\n\n",
   "et on cherche à compléter `fl` pour obtenir une base de $F$.\n\n",
   "On testera avec les vecteurs ci-dessous :\n\n"
    ]
},
  {
   "cell_type": "code",
   "execution_count": null,
   "metadata": {
    "collapsed": false
   },
   "outputs": [],
   "source": [
   "fl=[vector (z) for z in [(2, 1, 2, -4, -4, -4, 1, 5, -5, 5), (-1, 1, 2, 1, 2, 0, -4, 3, 3, 5),\n",
   "(-1, -2, -4, 3, 1, 3, 6, -6, 2, -9), (-2, -6, -11, 7, 3, 9, 13, -21, 2,\n",
   "-26), (-7, 7, 8, 10, 16, 9, -28, 12, 30, 6), (-9, -6, -14, 21, 21, 28,\n",
   "-6, -38, 26, -50)]]\n",
   "\n",
   "fg= [vector(z) for z in [(-3, -7, -19, 14, 5, 12, 15, -30, 3, -34), (10, -6, -10, -16, -20, -16,\n",
   "29, -7, -33, 0), (-20, -2, -8, 40, 42, 47, -29, -37, 61, -59), (-27, 7,\n",
   "17, 57, 42, 60, -53, 3, 58, -19), (-1, 24, 50, -15, 3, -14, -65, 85, 19,\n",
   "88), (4, -17, -8, 2, -23, 20, 48, -25, -49, -39), (-8, 8, 1, 6, 25, -2,\n",
   "-28, 7, 52, 5), (25, 24, 29, -52, -27, -50, -62, 58, -43, 86), (-1, -1,\n",
   "-49, 5, 25, -25, 4, -46, 49, -25), (-2, -34, -69, 40, -8, 47, 77, -106,\n",
   "-41, -119), (-71, -38, -120, 220, 121, 230, -42, -217, 119, -280), (75,\n",
   "-50, -101, -114, -149, -122, 233, -65, -240, -12)]]"
   ]
  },
{
    "cell_type": "markdown",
    "metadata": {},
    "source": [
   "Ecrire une fonction `completer(fl, b)`qui étant une base `base` d'un sev $F$ et une famille libre `fl` de vecteurs de $F$ retourne une famille base complétée de `fl` en une base de $F$. Pour cela, on complétera successivement la famille `fl` par les différents vecteurs de `base` en une famille libre $\\mathcal{F}$ jusqu'à ce que la taille de $\\mathcal{F}$ n'augmente plus.\n\n"
    ]
},
  {
   "cell_type": "code",
   "execution_count": null,
   "metadata": {
    "collapsed": false
   },
   "outputs": [],
   "source": [
"# Votre code CI-DESSOUS\n" 
   ]
  },
{
    "cell_type": "markdown",
    "metadata": {},
    "source": [
   "### Exercice n° 14 : Supplémentaire commun\n\n"
    ]
},
{
    "cell_type": "markdown",
    "metadata": {},
    "source": [
   "On donne à l'aide de familles génératrices deux sous-espaces vectoriels $F$ et $G$ de $\\R^n$ ayant même dimension $p$. On admet que $F$ et $G$ admettent au moins un supplémentaire commun $H$ dans $\\R^n$.\n\n",
   "Le but de l'exercice est de construire un code qui détermine une base de $H$ en connaissant des familles génératrices de $F$ et de $G$.\n\n",
   "On testera avec les données suivantes :\n\n"
    ]
},
  {
   "cell_type": "code",
   "execution_count": null,
   "metadata": {
    "collapsed": false
   },
   "outputs": [],
   "source": [
   "# liste des générateurs du sev F\n",
   "F=[vector([1, 0, 0, 2, 0, 0, -3, -7, 3, 1, -3, 6, -7]),\n",
   "vector([-1, 1, 0, -1, 0, -1, 2, 8, -5, 3, 6, -5, 0]),\n",
   "vector([0, 0, 1, 0, 1, 1, 0, -3, -4, 6, 1, -3, 3]),\n",
   "vector([-1, 1, 1, 0, 0, 0, 1, -1, -4, 5, 3, -1, 0]),\n",
   "vector([0, 0, -1, 0, 0, -1, 0, 5, -1, -1, 3, -3, -4]),\n",
   "vector([0, 1, -1, 1, 1, -1, -1, 5, -4, 5, 4, -1, -6]),\n",
   "vector([0, 0, -2, 0, -2, -2, 1, 8, 3, -9, 4, -3, -9]),\n",
   "vector([0, 0, 0, 0, 0, 1, 0, -3, 5, -4, -7, 9, 7]),\n",
   "vector([-1, 0, 0, -2, 0, 0, 2, 5, 1, -3, -2, 1, 9]),\n",
   "vector([0, 1, -1, 0, 0, -1, 1, 9, -4, 2, 6, -5, -4])]\n",
   "\n",
   "\n",
   "# liste des générateurs du sev G\n",
   "G=[vector([0, 0, 0,-1, 2, 0, -1, 4, 4, 4, 4, 6, -8]),\n",
   "vector([0, 1, -2, 3, -4, 0, 2, -4, 8, -9, 0, -4, 9]),\n",
   "vector([-2, 0, -1, 2, 0, 2, 4, -6, -6, 7, -3, -4, 9]),\n",
   "vector([1, 0, 1, -1, -1, -2, -2, 0, -1, -3, -2, -2, -1]),\n",
   "vector([0, 1, -2, 3, -3, 1, 2, -2, 8, -9, 2, -1, 7]),\n",
   "vector([1, 0, 0, -1, 0, 0, -1, 2, 1, -3, 0, -1, -4]),\n",
   "vector([1, 0, 0, 0, 2, 2, -1, 6, 0, -4, 5, 7, -6]),\n",
   "vector([0, 0, 0, 0, 2, 0, -1, 5, 6, 2, 6, 9, -6]),\n",
   "vector([1, 0, 0, -1, 1, 2, 0, 4, 1, -4, 1, 0, -4]),\n",
   "vector([0, 0, 1, -2, -2, -6, -2, -3, 9, 6, -4, -5, -1]),\n",
   "vector([1, 0, 0, 0, 4, 5, 1, 7, -6, -1, 4, 6, -6]),\n",
   "vector([0, 0, 1, -2, -1, -5, -3, 0, 9, 4, 0, 1, -5])]"
   ]
  },
{
    "cell_type": "markdown",
    "metadata": {},
    "source": [
   "1) Ecrire le code d'une fonction `vecteur_in_out(F,G)` qui renvoie, si c'est possible, un vecteur dans $F$ et hors de $G$ et qui sinon renvoie `*None`. On cherchera le vecteur demandé parmi les générateurs de $F$.\n\n",
   "Faites quelques tests.\n\n"
    ]
},
  {
   "cell_type": "code",
   "execution_count": null,
   "metadata": {
    "collapsed": false
   },
   "outputs": [],
   "source": [
"# Votre code CI-DESSOUS\n" 
   ]
  },
{
    "cell_type": "markdown",
    "metadata": {},
    "source": [
   "2) Ecrire une `vecteur_out_out(F,G)`  qui renvoie un vecteur qui ne soit ni dans $F$ ni dans $G$, en supposant que $F$ et $G$ sont distincts de $R^n$. On cherchera d'abord, si c'est possible, un vecteur u dans $F$ et hors de $G$ et un vecteur $v$ dans $G$ et hors de $F$, le vecteur $u+v$ étant alors un vecteur solution au problème posé. Si on ne peut trouver un vecteur $u$ ou $v$, on cherchera le vecteur demandé parmi les vecteurs de la base canonique de $R^n$.\n\n",
   "Faites quelques tests.\n\n",
   "3°) Ecrire une fonction `suppl_commun(F, G)` qui renvoie un supplémentaire commun $H$ de $F$ et de $G$, en supposant que $F$ et $G$ sont de même dimension. Le sev $H$ sera défini à l'aide d'une base. Les sev $F$ et $G$ seront donnés sous la forme de listes de vecteurs générateurs.\n\n",
   "On appliquera une méthode de complétions successives par un vecteur $a$ ni dans $F$ ni dans $G$. On testera avec les sev donnés ci-dessous et on vérifiera en utilisant une fonction `sontSuppl` sui teste si deux sev sont supplémentaires.\n\n"
    ]
},
  {
   "cell_type": "code",
   "execution_count": null,
   "metadata": {
    "collapsed": false
   },
   "outputs": [],
   "source": [
"# Votre code CI-DESSOUS\n" 
   ]
  } 
 ],
 "metadata": {
  "kernelspec": {
   "display_name": "Sage 6.9",
   "language": "",
   "name": "sage_6_9"
  },
  "language_info": {
   "codemirror_mode": {
    "name": "ipython",
    "version": 2
   },
   "file_extension": ".py",
   "mimetype": "text/x-python",
   "name": "python",
   "nbconvert_exporter": "python",
   "pygments_lexer": "ipython2",
   "version": "2.7.9"
  }
 },
 "nbformat": 4,
 "nbformat_minor": 0
}